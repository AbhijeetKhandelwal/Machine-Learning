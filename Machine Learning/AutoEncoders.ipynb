{
 "cells": [
  {
   "cell_type": "code",
   "execution_count": 27,
   "metadata": {},
   "outputs": [],
   "source": [
    "#Auto Encoders\n",
    "\n",
    "input_layer = 784\n",
    "layer_one = 400\n",
    "layer_two = 100\n",
    "layer_three = layer_one\n",
    "output_layer = input_layer\n",
    "\n",
    "learning_rate = 0.01"
   ]
  },
  {
   "cell_type": "code",
   "execution_count": 28,
   "metadata": {},
   "outputs": [],
   "source": [
    "import tensorflow as tf\n",
    "\n",
    "initializer = tf.contrib.layers.variance_scaling_initializer()\n",
    "X = tf.placeholder(tf.float32,shape=[None,input_layer])\n",
    "\n",
    "w1_init = initializer([input_layer,layer_one])\n",
    "w2_init = initializer([layer_one,layer_two])\n",
    "\n",
    "w1 = tf.Variable(w1_init,dtype = tf.float32,name = 'weight1')\n",
    "w2 = tf.Variable(w2_init,dtype = tf.float32,name = 'weight2')\n",
    "w3 = tf.transpose(w2,name ='weight3')\n",
    "w4 = tf.transpose(w1,name = 'weight4')\n",
    "\n",
    "bias1 = tf.Variable(tf.zeros(layer_one),name = 'bias1')\n",
    "bias2= tf.Variable(tf.zeros(layer_two),name = 'bias2')\n",
    "bias3= tf.Variable(tf.zeros(layer_three),name = 'bias3')\n",
    "bias4= tf.Variable(tf.zeros(output_layer),name = 'bias4')\n",
    "\n",
    "                   \n",
    "layer_1 = tf.nn.relu(tf.matmul(X,w1) + bias1)\n",
    "layer_2 = tf.nn.relu(tf.matmul(layer_1,w2) + bias2)\n",
    "layer_3 = tf.nn.relu(tf.matmul(layer_2,w3) + bias3)\n",
    "output = tf.matmul(layer_3,w4) + bias4\n"
   ]
  },
  {
   "cell_type": "code",
   "execution_count": 29,
   "metadata": {},
   "outputs": [],
   "source": [
    "l2_reg = 0.001\n",
    "reg = tf.contrib.layers.l2_regularizer(l2_reg)\n",
    "\n",
    "recon_loss = tf.reduce_mean(tf.square(output-X))\n",
    "\n",
    "reg_loss = reg(w1) + reg(w2)\n",
    "\n",
    "loss = reg_loss + recon_loss\n",
    "\n",
    "optimizer = tf.train.AdadeltaOptimizer(learning_rate)\n",
    "\n",
    "training_op = optimizer.minimize(loss)\n",
    "\n"
   ]
  },
  {
   "cell_type": "code",
   "execution_count": 30,
   "metadata": {},
   "outputs": [
    {
     "name": "stdout",
     "output_type": "stream",
     "text": [
      "Extracting MNIST-data\\train-images-idx3-ubyte.gz\n",
      "Extracting MNIST-data\\train-labels-idx1-ubyte.gz\n",
      "Extracting MNIST-data\\t10k-images-idx3-ubyte.gz\n",
      "Extracting MNIST-data\\t10k-labels-idx1-ubyte.gz\n"
     ]
    }
   ],
   "source": [
    "import numpy as np\n",
    "mnist = tf.contrib.learn.datasets.load_dataset(\"mnist\")\n"
   ]
  },
  {
   "cell_type": "code",
   "execution_count": null,
   "metadata": {},
   "outputs": [],
   "source": []
  },
  {
   "cell_type": "code",
   "execution_count": 31,
   "metadata": {
    "scrolled": true
   },
   "outputs": [
    {
     "name": "stdout",
     "output_type": "stream",
     "text": [
      "0 Train MSE: 0.12655717\n",
      "1 Train MSE: 0.12008434\n",
      "2 Train MSE: 0.117893666\n",
      "3 Train MSE: 0.112243466\n",
      "4 Train MSE: 0.106426194\n"
     ]
    }
   ],
   "source": [
    "init = tf.global_variables_initializer()\n",
    "saver = tf.train.Saver()\n",
    "epochs = 5\n",
    "\n",
    "batch_size = 150\n",
    "\n",
    "with tf.Session() as sess:\n",
    "    init.run()\n",
    "    for epoch in range(epochs):\n",
    "        n_batchs = 150\n",
    "        for i in range(n_batchs):\n",
    "            X_batch, y_batch = mnist.train.next_batch(batch_size)\n",
    "            sess.run(training_op, feed_dict={X: X_batch})\n",
    "        loss_train = recon_loss.eval(feed_dict={X: X_batch})\n",
    "        print(\"\\r{}\".format(epoch), \"Train MSE:\", loss_train)\n",
    "        saver.save(sess, \"./my_model_all_layers.ckpt\")  "
   ]
  },
  {
   "cell_type": "code",
   "execution_count": 32,
   "metadata": {},
   "outputs": [],
   "source": [
    "import matplotlib.pyplot as plt\n",
    "def plot_image(image, shape=[28, 28]):\n",
    "    plt.imshow(image.reshape(shape), cmap=\"Greys\", interpolation=\"nearest\")\n",
    "    plt.axis(\"off\")\n",
    "def show_reconstructed_digits(X, outputs, model_path = None, n_test_digits = 2):\n",
    "    with tf.Session() as sess:\n",
    "        if model_path:\n",
    "            saver.restore(sess, model_path)\n",
    "        X_test = mnist.test.images[:n_test_digits]\n",
    "        outputs_val = outputs.eval(feed_dict={X: X_test})\n",
    "\n",
    "    fig = plt.figure(figsize=(8, 3 * n_test_digits))\n",
    "    for digit_index in range(n_test_digits):\n",
    "        plt.subplot(n_test_digits, 2, digit_index * 2 + 1)\n",
    "        plot_image(X_test[digit_index])\n",
    "        plt.subplot(n_test_digits, 2, digit_index * 2 + 2)\n",
    "        plot_image(outputs_val[digit_index])\n",
    "        \n"
   ]
  },
  {
   "cell_type": "code",
   "execution_count": 33,
   "metadata": {},
   "outputs": [
    {
     "name": "stdout",
     "output_type": "stream",
     "text": [
      "INFO:tensorflow:Restoring parameters from ./my_model_all_layers.ckpt\n"
     ]
    },
    {
     "data": {
      "image/png": "[encoded data removed]",
      "text/plain": [
       "<matplotlib.figure.Figure at 0x20fa35fecc0>"
      ]
     },
     "metadata": {},
     "output_type": "display_data"
    }
   ],
   "source": [
    "show_reconstructed_digits(X, output, \"./my_model_all_layers.ckpt\")\n"
   ]
  }
 ],
 "metadata": {
  "kernelspec": {
   "display_name": "Python 3",
   "language": "python",
   "name": "python3"
  },
  "language_info": {
   "codemirror_mode": {
    "name": "ipython",
    "version": 3
   },
   "file_extension": ".py",
   "mimetype": "text/x-python",
   "name": "python",
   "nbconvert_exporter": "python",
   "pygments_lexer": "ipython3",
   "version": "3.5.5"
  }
 },
 "nbformat": 4,
 "nbformat_minor": 2
}
