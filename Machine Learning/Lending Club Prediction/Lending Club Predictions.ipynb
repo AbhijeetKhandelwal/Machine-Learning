{
 "cells": [
  {
   "cell_type": "code",
   "execution_count": 45,
   "metadata": {},
   "outputs": [
    {
     "name": "stderr",
     "output_type": "stream",
     "text": [
      "C:\\Users\\bhumi\\Anaconda3\\lib\\site-packages\\IPython\\core\\interactiveshell.py:2728: DtypeWarning: Columns (0,47) have mixed types. Specify dtype option on import or set low_memory=False.\n",
      "  interactivity=interactivity, compiler=compiler, result=result)\n"
     ]
    }
   ],
   "source": [
    "import pandas as pd\n",
    "import numpy as np\n",
    "import matplotlib.pyplot as plt\n",
    "import seaborn as sns\n",
    "from matplotlib import rcParams\n",
    "%matplotlib inline\n",
    "\n",
    "plt.style.use('fivethirtyeight')\n",
    "rcParams['axes.labelsize'] = 14\n",
    "rcParams['xtick.labelsize'] = 12\n",
    "rcParams['ytick.labelsize'] = 12\n",
    "rcParams['text.color'] = 'k'\n",
    "#importing data and displaying it\n",
    "\n",
    "dataFrame=pd.read_csv('C:\\\\Users\\\\bhumi\\\\Desktop\\\\repo\\\\LoanStats3a.csv',encoding = 'UTF-8',skiprows=1)\n"
   ]
  },
  {
   "cell_type": "code",
   "execution_count": 46,
   "metadata": {},
   "outputs": [
    {
     "name": "stdout",
     "output_type": "stream",
     "text": [
      "<class 'pandas.core.frame.DataFrame'>\n",
      "RangeIndex: 42538 entries, 0 to 42537\n",
      "Columns: 145 entries, id to settlement_term\n",
      "dtypes: float64(115), object(30)\n",
      "memory usage: 47.1+ MB\n"
     ]
    }
   ],
   "source": [
    "dataFrame.info()"
   ]
  },
  {
   "cell_type": "code",
   "execution_count": 47,
   "metadata": {},
   "outputs": [
    {
     "data": {
      "text/plain": [
       "Index(['id', 'member_id', 'loan_amnt', 'funded_amnt', 'funded_amnt_inv',\n",
       "       'term', 'int_rate', 'installment', 'grade', 'sub_grade',\n",
       "       ...\n",
       "       'hardship_payoff_balance_amount', 'hardship_last_payment_amount',\n",
       "       'disbursement_method', 'debt_settlement_flag',\n",
       "       'debt_settlement_flag_date', 'settlement_status', 'settlement_date',\n",
       "       'settlement_amount', 'settlement_percentage', 'settlement_term'],\n",
       "      dtype='object', length=145)"
      ]
     },
     "execution_count": 47,
     "metadata": {},
     "output_type": "execute_result"
    }
   ],
   "source": [
    "#Here we are insterested in finding out if person will default or not\n",
    "#Dropping some columns on the basis of Meta data infromation/Intution\n",
    "# we are only instrested in the data where person has defaulted or not (not in between cases)\n",
    "dataFrame.columns"
   ]
  },
  {
   "cell_type": "code",
   "execution_count": 48,
   "metadata": {},
   "outputs": [],
   "source": [
    "dataFrame.drop(['id','member_id','funded_amnt','funded_amnt_inv','grade','sub_grade','emp_title','issue_d'], axis = 1,inplace=True)"
   ]
  },
  {
   "cell_type": "code",
   "execution_count": 49,
   "metadata": {},
   "outputs": [],
   "source": [
    "dataFrame.drop(['zip_code','out_prncp','out_prncp_inv','total_pymnt','total_pymnt_inv','total_rec_prncp'],axis=1,inplace=True)"
   ]
  },
  {
   "cell_type": "code",
   "execution_count": 50,
   "metadata": {},
   "outputs": [],
   "source": [
    "dataFrame.drop([\"total_rec_int\", \"total_rec_late_fee\", \"recoveries\", \"collection_recovery_fee\", \"last_pymnt_d\", \"last_pymnt_amnt\"], axis=1,inplace=True)"
   ]
  },
  {
   "cell_type": "code",
   "execution_count": 51,
   "metadata": {},
   "outputs": [
    {
     "name": "stdout",
     "output_type": "stream",
     "text": [
      "Fully Paid                                             34116\n",
      "Charged Off                                             5670\n",
      "Does not meet the credit policy. Status:Fully Paid      1988\n",
      "Does not meet the credit policy. Status:Charged Off      761\n",
      "Name: loan_status, dtype: int64\n"
     ]
    }
   ],
   "source": [
    "#filtering only those records where payment has been made or reciver has defaulted the payment\n",
    "print(dataFrame['loan_status'].value_counts())\n"
   ]
  },
  {
   "cell_type": "code",
   "execution_count": 52,
   "metadata": {},
   "outputs": [],
   "source": [
    "#as we want this data to be of binary classification. we will convert data in fully paid and charged off category.\n",
    "dataFrame = dataFrame[(dataFrame['loan_status']=='Fully Paid') | (dataFrame['loan_status']=='Charged Off')]\n",
    "\n",
    "#replacing all the values by 0 or 1\n",
    "status_replace = {'loan_status':{'Fully Paid':1,\"Charged Off\":0}}\n",
    "\n",
    "dataFrame = dataFrame.replace(status_replace)"
   ]
  },
  {
   "cell_type": "code",
   "execution_count": 53,
   "metadata": {},
   "outputs": [
    {
     "data": {
      "image/png": "[encoded data removed]",
      "text/plain": [
       "<matplotlib.figure.Figure at 0x24ca377ec50>"
      ]
     },
     "metadata": {},
     "output_type": "display_data"
    }
   ],
   "source": [
    "#This dataset is bit unbalanced as majority of the record in dataset is of full amount paid\n",
    "#we need to keep in find while sampling about this imbalance\n",
    "g = sns.barplot(y = dataFrame['loan_status'].value_counts(),x=dataFrame['loan_status'].value_counts().index.tolist())\n",
    "plt.show()"
   ]
  },
  {
   "cell_type": "code",
   "execution_count": 54,
   "metadata": {},
   "outputs": [
    {
     "name": "stdout",
     "output_type": "stream",
     "text": [
      "['pymnt_plan', 'initial_list_status', 'collections_12_mths_ex_med', 'policy_code', 'application_type', 'acc_now_delinq', 'chargeoff_within_12_mths', 'delinq_amnt', 'tax_liens', 'hardship_flag', 'disbursement_method']\n"
     ]
    },
    {
     "data": {
      "text/plain": [
       "(39786, 114)"
      ]
     },
     "execution_count": 54,
     "metadata": {},
     "output_type": "execute_result"
    }
   ],
   "source": [
    "#there will be class imbalance while training machine learning logistic regression model.\n",
    "# finding out cloumns having just one unique value\n",
    "#finding out columns having only one unique value as that column will not contribute into modeling and dropping it.\n",
    "columns_deleted = []\n",
    "for i in dataFrame.columns:\n",
    "    col_series = dataFrame[i].dropna().unique()\n",
    "    if len(col_series) == 1:\n",
    "        columns_deleted.append(i)\n",
    "        \n",
    "dataFrame = dataFrame.drop(columns_deleted,axis=1)\n",
    "print(columns_deleted)\n",
    "\n",
    "dataFrame.shape"
   ]
  },
  {
   "cell_type": "code",
   "execution_count": 55,
   "metadata": {},
   "outputs": [
    {
     "data": {
      "text/plain": [
       "['loan_amnt',\n",
       " 'term',\n",
       " 'int_rate',\n",
       " 'installment',\n",
       " 'emp_length',\n",
       " 'home_ownership',\n",
       " 'annual_inc',\n",
       " 'verification_status',\n",
       " 'loan_status',\n",
       " 'url',\n",
       " 'desc',\n",
       " 'purpose',\n",
       " 'title',\n",
       " 'addr_state',\n",
       " 'dti',\n",
       " 'delinq_2yrs',\n",
       " 'earliest_cr_line',\n",
       " 'inq_last_6mths',\n",
       " 'mths_since_last_delinq',\n",
       " 'mths_since_last_record',\n",
       " 'open_acc',\n",
       " 'pub_rec',\n",
       " 'revol_bal',\n",
       " 'revol_util',\n",
       " 'total_acc',\n",
       " 'next_pymnt_d',\n",
       " 'last_credit_pull_d',\n",
       " 'mths_since_last_major_derog',\n",
       " 'annual_inc_joint',\n",
       " 'dti_joint',\n",
       " 'verification_status_joint',\n",
       " 'tot_coll_amt',\n",
       " 'tot_cur_bal',\n",
       " 'open_acc_6m',\n",
       " 'open_act_il',\n",
       " 'open_il_12m',\n",
       " 'open_il_24m',\n",
       " 'mths_since_rcnt_il',\n",
       " 'total_bal_il',\n",
       " 'il_util',\n",
       " 'open_rv_12m',\n",
       " 'open_rv_24m',\n",
       " 'max_bal_bc',\n",
       " 'all_util',\n",
       " 'total_rev_hi_lim',\n",
       " 'inq_fi',\n",
       " 'total_cu_tl',\n",
       " 'inq_last_12m',\n",
       " 'acc_open_past_24mths',\n",
       " 'avg_cur_bal',\n",
       " 'bc_open_to_buy',\n",
       " 'bc_util',\n",
       " 'mo_sin_old_il_acct',\n",
       " 'mo_sin_old_rev_tl_op',\n",
       " 'mo_sin_rcnt_rev_tl_op',\n",
       " 'mo_sin_rcnt_tl',\n",
       " 'mort_acc',\n",
       " 'mths_since_recent_bc',\n",
       " 'mths_since_recent_bc_dlq',\n",
       " 'mths_since_recent_inq',\n",
       " 'mths_since_recent_revol_delinq',\n",
       " 'num_accts_ever_120_pd',\n",
       " 'num_actv_bc_tl',\n",
       " 'num_actv_rev_tl',\n",
       " 'num_bc_sats',\n",
       " 'num_bc_tl',\n",
       " 'num_il_tl',\n",
       " 'num_op_rev_tl',\n",
       " 'num_rev_accts',\n",
       " 'num_rev_tl_bal_gt_0',\n",
       " 'num_sats',\n",
       " 'num_tl_120dpd_2m',\n",
       " 'num_tl_30dpd',\n",
       " 'num_tl_90g_dpd_24m',\n",
       " 'num_tl_op_past_12m',\n",
       " 'pct_tl_nvr_dlq',\n",
       " 'percent_bc_gt_75',\n",
       " 'pub_rec_bankruptcies',\n",
       " 'tot_hi_cred_lim',\n",
       " 'total_bal_ex_mort',\n",
       " 'total_bc_limit',\n",
       " 'total_il_high_credit_limit',\n",
       " 'revol_bal_joint',\n",
       " 'sec_app_earliest_cr_line',\n",
       " 'sec_app_inq_last_6mths',\n",
       " 'sec_app_mort_acc',\n",
       " 'sec_app_open_acc',\n",
       " 'sec_app_revol_util',\n",
       " 'sec_app_open_act_il',\n",
       " 'sec_app_num_rev_accts',\n",
       " 'sec_app_chargeoff_within_12_mths',\n",
       " 'sec_app_collections_12_mths_ex_med',\n",
       " 'sec_app_mths_since_last_major_derog',\n",
       " 'hardship_type',\n",
       " 'hardship_reason',\n",
       " 'hardship_status',\n",
       " 'deferral_term',\n",
       " 'hardship_amount',\n",
       " 'hardship_start_date',\n",
       " 'hardship_end_date',\n",
       " 'payment_plan_start_date',\n",
       " 'hardship_length',\n",
       " 'hardship_dpd',\n",
       " 'hardship_loan_status',\n",
       " 'orig_projected_additional_accrued_interest',\n",
       " 'hardship_payoff_balance_amount',\n",
       " 'hardship_last_payment_amount',\n",
       " 'debt_settlement_flag',\n",
       " 'debt_settlement_flag_date',\n",
       " 'settlement_status',\n",
       " 'settlement_date',\n",
       " 'settlement_amount',\n",
       " 'settlement_percentage',\n",
       " 'settlement_term']"
      ]
     },
     "execution_count": 55,
     "metadata": {},
     "output_type": "execute_result"
    }
   ],
   "source": [
    "dataFrame.columns.tolist()"
   ]
  },
  {
   "cell_type": "code",
   "execution_count": 56,
   "metadata": {},
   "outputs": [
    {
     "data": {
      "text/plain": [
       "loan_amnt                                         0\n",
       "term                                              0\n",
       "int_rate                                          0\n",
       "installment                                       0\n",
       "emp_length                                     1078\n",
       "home_ownership                                    0\n",
       "annual_inc                                        0\n",
       "verification_status                               0\n",
       "loan_status                                       0\n",
       "url                                           39786\n",
       "desc                                          12967\n",
       "purpose                                           0\n",
       "title                                            11\n",
       "addr_state                                        0\n",
       "dti                                               0\n",
       "delinq_2yrs                                       0\n",
       "earliest_cr_line                                  0\n",
       "inq_last_6mths                                    0\n",
       "mths_since_last_delinq                        25727\n",
       "mths_since_last_record                        36995\n",
       "open_acc                                          0\n",
       "pub_rec                                           0\n",
       "revol_bal                                         0\n",
       "revol_util                                       50\n",
       "total_acc                                         0\n",
       "next_pymnt_d                                  39786\n",
       "last_credit_pull_d                                2\n",
       "mths_since_last_major_derog                   39786\n",
       "annual_inc_joint                              39786\n",
       "dti_joint                                     39786\n",
       "                                              ...  \n",
       "sec_app_inq_last_6mths                        39786\n",
       "sec_app_mort_acc                              39786\n",
       "sec_app_open_acc                              39786\n",
       "sec_app_revol_util                            39786\n",
       "sec_app_open_act_il                           39786\n",
       "sec_app_num_rev_accts                         39786\n",
       "sec_app_chargeoff_within_12_mths              39786\n",
       "sec_app_collections_12_mths_ex_med            39786\n",
       "sec_app_mths_since_last_major_derog           39786\n",
       "hardship_type                                 39786\n",
       "hardship_reason                               39786\n",
       "hardship_status                               39786\n",
       "deferral_term                                 39786\n",
       "hardship_amount                               39786\n",
       "hardship_start_date                           39786\n",
       "hardship_end_date                             39786\n",
       "payment_plan_start_date                       39786\n",
       "hardship_length                               39786\n",
       "hardship_dpd                                  39786\n",
       "hardship_loan_status                          39786\n",
       "orig_projected_additional_accrued_interest    39786\n",
       "hardship_payoff_balance_amount                39786\n",
       "hardship_last_payment_amount                  39786\n",
       "debt_settlement_flag                              0\n",
       "debt_settlement_flag_date                     39639\n",
       "settlement_status                             39639\n",
       "settlement_date                               39639\n",
       "settlement_amount                             39639\n",
       "settlement_percentage                         39639\n",
       "settlement_term                               39639\n",
       "Length: 114, dtype: int64"
      ]
     },
     "execution_count": 56,
     "metadata": {},
     "output_type": "execute_result"
    }
   ],
   "source": [
    "#lets look the null values in dataset\n",
    "dataFrame.isnull().sum()"
   ]
  },
  {
   "cell_type": "code",
   "execution_count": 57,
   "metadata": {},
   "outputs": [],
   "source": [
    "#removing all columns having null value greater then 1% of total records\n",
    "null_column = []\n",
    "for i in dataFrame.columns:\n",
    "    x = dataFrame[i].isnull().sum()\n",
    "    y = dataFrame[i].notnull().sum()\n",
    "    if x>= y:\n",
    "        null_column.append(i)\n",
    "dataFrame.drop(null_column,axis=1,inplace=True)"
   ]
  },
  {
   "cell_type": "code",
   "execution_count": 58,
   "metadata": {},
   "outputs": [
    {
     "data": {
      "text/plain": [
       "loan_amnt                   0\n",
       "term                        0\n",
       "int_rate                    0\n",
       "installment                 0\n",
       "emp_length               1078\n",
       "home_ownership              0\n",
       "annual_inc                  0\n",
       "verification_status         0\n",
       "loan_status                 0\n",
       "desc                    12967\n",
       "purpose                     0\n",
       "title                      11\n",
       "addr_state                  0\n",
       "dti                         0\n",
       "delinq_2yrs                 0\n",
       "earliest_cr_line            0\n",
       "inq_last_6mths              0\n",
       "open_acc                    0\n",
       "pub_rec                     0\n",
       "revol_bal                   0\n",
       "revol_util                 50\n",
       "total_acc                   0\n",
       "last_credit_pull_d          2\n",
       "pub_rec_bankruptcies      697\n",
       "debt_settlement_flag        0\n",
       "dtype: int64"
      ]
     },
     "execution_count": 58,
     "metadata": {},
     "output_type": "execute_result"
    }
   ],
   "source": [
    "dataFrame.isnull().sum()"
   ]
  },
  {
   "cell_type": "code",
   "execution_count": 59,
   "metadata": {},
   "outputs": [],
   "source": [
    "#dropping desc column as it is text\n",
    "dataFrame.drop(['desc','pub_rec_bankruptcies'],axis=1,inplace=True)"
   ]
  },
  {
   "cell_type": "code",
   "execution_count": 60,
   "metadata": {},
   "outputs": [
    {
     "data": {
      "text/plain": [
       "loan_amnt                  0\n",
       "term                       0\n",
       "int_rate                   0\n",
       "installment                0\n",
       "emp_length              1078\n",
       "home_ownership             0\n",
       "annual_inc                 0\n",
       "verification_status        0\n",
       "loan_status                0\n",
       "purpose                    0\n",
       "title                     11\n",
       "addr_state                 0\n",
       "dti                        0\n",
       "delinq_2yrs                0\n",
       "earliest_cr_line           0\n",
       "inq_last_6mths             0\n",
       "open_acc                   0\n",
       "pub_rec                    0\n",
       "revol_bal                  0\n",
       "revol_util                50\n",
       "total_acc                  0\n",
       "last_credit_pull_d         2\n",
       "debt_settlement_flag       0\n",
       "dtype: int64"
      ]
     },
     "execution_count": 60,
     "metadata": {},
     "output_type": "execute_result"
    }
   ],
   "source": [
    "dataFrame.isnull().sum()"
   ]
  },
  {
   "cell_type": "code",
   "execution_count": 61,
   "metadata": {},
   "outputs": [
    {
     "data": {
      "text/plain": [
       "object     11\n",
       "float64    10\n",
       "int64       1\n",
       "dtype: int64"
      ]
     },
     "execution_count": 61,
     "metadata": {},
     "output_type": "execute_result"
    }
   ],
   "source": [
    "#now dropping flag column as this is not useful as we have already filtered out data\n",
    "dataFrame.drop('debt_settlement_flag',axis=1,inplace=True)\n",
    "dataFrame.dtypes.value_counts()"
   ]
  },
  {
   "cell_type": "code",
   "execution_count": 62,
   "metadata": {},
   "outputs": [
    {
     "name": "stdout",
     "output_type": "stream",
     "text": [
      "term                     36 months\n",
      "int_rate                    10.65%\n",
      "emp_length               10+ years\n",
      "home_ownership                RENT\n",
      "verification_status       Verified\n",
      "purpose                credit_card\n",
      "title                     Computer\n",
      "addr_state                      AZ\n",
      "earliest_cr_line          Jan-1985\n",
      "revol_util                   83.7%\n",
      "last_credit_pull_d        Nov-2017\n",
      "Name: 0, dtype: object\n"
     ]
    }
   ],
   "source": [
    "#identifying data having object/Text datatype\n",
    "object_columns_df = dataFrame.select_dtypes(include=['object'])\n",
    "print(object_columns_df.iloc[0])\n"
   ]
  },
  {
   "cell_type": "code",
   "execution_count": 63,
   "metadata": {},
   "outputs": [
    {
     "name": "stdout",
     "output_type": "stream",
     "text": [
      "RENT        18918\n",
      "MORTGAGE    17703\n",
      "OWN          3064\n",
      "OTHER          98\n",
      "NONE            3\n",
      "Name: home_ownership, dtype: int64\n",
      "Not Verified       16926\n",
      "Verified           12844\n",
      "Source Verified    10016\n",
      "Name: verification_status, dtype: int64\n",
      "10+ years    8899\n",
      "< 1 year     4590\n",
      "2 years      4394\n",
      "3 years      4098\n",
      "4 years      3444\n",
      "5 years      3286\n",
      "1 year       3247\n",
      "6 years      2231\n",
      "7 years      1775\n",
      "8 years      1485\n",
      "9 years      1259\n",
      "Name: emp_length, dtype: int64\n",
      " 36 months    29096\n",
      " 60 months    10690\n",
      "Name: term, dtype: int64\n",
      "CA    7105\n",
      "NY    3817\n",
      "FL    2872\n",
      "TX    2734\n",
      "NJ    1855\n",
      "IL    1525\n",
      "PA    1519\n",
      "VA    1408\n",
      "GA    1399\n",
      "MA    1344\n",
      "OH    1226\n",
      "MD    1055\n",
      "AZ     882\n",
      "WA     842\n",
      "CO     792\n",
      "NC     789\n",
      "CT     754\n",
      "MI     722\n",
      "MO     686\n",
      "MN     616\n",
      "NV     498\n",
      "SC     472\n",
      "WI     460\n",
      "AL     452\n",
      "OR     451\n",
      "LA     436\n",
      "KY     327\n",
      "OK     300\n",
      "KS     272\n",
      "UT     259\n",
      "AR     246\n",
      "DC     214\n",
      "RI     199\n",
      "NM     190\n",
      "WV     177\n",
      "HI     174\n",
      "NH     172\n",
      "DE     114\n",
      "MT      85\n",
      "WY      83\n",
      "AK      81\n",
      "SD      64\n",
      "VT      54\n",
      "MS      19\n",
      "TN      17\n",
      "IN       9\n",
      "ID       6\n",
      "IA       5\n",
      "NE       5\n",
      "ME       3\n",
      "Name: addr_state, dtype: int64\n"
     ]
    }
   ],
   "source": [
    "#Lets check unique values in the object columns\n",
    "cols = ['home_ownership', 'verification_status', 'emp_length', 'term', 'addr_state']\n",
    "\n",
    "for i in cols:\n",
    "    print(dataFrame[i].value_counts())"
   ]
  },
  {
   "cell_type": "code",
   "execution_count": 64,
   "metadata": {},
   "outputs": [
    {
     "name": "stdout",
     "output_type": "stream",
     "text": [
      "debt_consolidation    18676\n",
      "credit_card            5137\n",
      "other                  4001\n",
      "home_improvement       2985\n",
      "major_purchase         2188\n",
      "small_business         1831\n",
      "car                    1551\n",
      "wedding                 948\n",
      "medical                 695\n",
      "moving                  583\n",
      "house                   382\n",
      "vacation                381\n",
      "educational             325\n",
      "renewable_energy        103\n",
      "Name: purpose, dtype: int64\n",
      "Debt Consolidation                                 2191\n",
      "Debt Consolidation Loan                            1733\n",
      "Personal Loan                                       661\n",
      "Consolidation                                       517\n",
      "debt consolidation                                  508\n",
      "Credit Card Consolidation                           357\n",
      "Home Improvement                                    357\n",
      "Debt consolidation                                  334\n",
      "Small Business Loan                                 329\n",
      "Credit Card Loan                                    319\n",
      "Personal                                            309\n",
      "Consolidation Loan                                  256\n",
      "Home Improvement Loan                               249\n",
      "personal loan                                       235\n",
      "personal                                            221\n",
      "Loan                                                213\n",
      "Wedding Loan                                        209\n",
      "consolidation                                       205\n",
      "Car Loan                                            204\n",
      "Other Loan                                          192\n",
      "Credit Card Payoff                                  155\n",
      "Wedding                                             154\n",
      "Major Purchase Loan                                 145\n",
      "Credit Card Refinance                               144\n",
      "Consolidate                                         127\n",
      "Medical                                             122\n",
      "Credit Card                                         119\n",
      "home improvement                                    112\n",
      "My Loan                                              94\n",
      "Credit Cards                                         93\n",
      "                                                   ... \n",
      "Debt Consolidation Permanent Elimination              1\n",
      "halloween payoff                                      1\n",
      "tamarindo                                             1\n",
      "Attorney Fees for Child Custody                       1\n",
      "Texas Loan Star                                       1\n",
      "loan needed                                           1\n",
      "PERSONAL BUSINESS                                     1\n",
      "Son Help                                              1\n",
      "home improvement project excellent credit!!!!!!       1\n",
      "Credit Cards Pay Off                                  1\n",
      "Debt consolidation and wedding                        1\n",
      "Plumbing Repairs                                      1\n",
      "Pay off Retirement System Service Purchase            1\n",
      "debt debt go away                                     1\n",
      "Credit card Interest rate reduction                   1\n",
      "LendingClub - Moving and Reloc.                       1\n",
      "For an engagement ring                                1\n",
      "Small Business Improvement                            1\n",
      "Moving to Austin                                      1\n",
      "My Path to Debt Freedom                               1\n",
      "Refinance credit card debt at lower rate              1\n",
      "Personal Stimulus Package                             1\n",
      "Business startup loan                                 1\n",
      "Engineer seeks Environmental Training                 1\n",
      "Debit_Consolidate                                     1\n",
      "Looking to consolidate credit debt                    1\n",
      "PayChase                                              1\n",
      "Loan to put property in rental service                1\n",
      "1970 Dodge Charger                                    1\n",
      "Remainder of down payment                             1\n",
      "Name: title, Length: 19643, dtype: int64\n"
     ]
    }
   ],
   "source": [
    "print(dataFrame['purpose'].value_counts())\n",
    "print(dataFrame['title'].value_counts())"
   ]
  },
  {
   "cell_type": "code",
   "execution_count": 65,
   "metadata": {},
   "outputs": [],
   "source": [
    "#removing more columns\n",
    "dataFrame.drop([\"last_credit_pull_d\", \"earliest_cr_line\", \"addr_state\", \"title\"], axis=1,inplace=True)"
   ]
  },
  {
   "cell_type": "code",
   "execution_count": 66,
   "metadata": {},
   "outputs": [],
   "source": [
    "mapping_dict = {\n",
    "    \"emp_length\": {\n",
    "        \"10+ years\": 10,\n",
    "        \"9 years\": 9,\n",
    "        \"8 years\": 8,\n",
    "        \"7 years\": 7,\n",
    "        \"6 years\": 6,\n",
    "        \"5 years\": 5,\n",
    "        \"4 years\": 4,\n",
    "        \"3 years\": 3,\n",
    "        \"2 years\": 2,\n",
    "        \"1 year\": 1,\n",
    "        \"< 1 year\": 0,\n",
    "        \"n/a\": 0\n",
    "    }\n",
    "}\n",
    "dataFrame[\"int_rate\"] = dataFrame['int_rate'].str.rstrip('%').astype('float')\n",
    "dataFrame[\"revol_util\"] = dataFrame[\"revol_util\"].str.rstrip(\"%\").astype(\"float\")\n",
    "dataFrame = dataFrame.replace(mapping_dict)"
   ]
  },
  {
   "cell_type": "code",
   "execution_count": 67,
   "metadata": {},
   "outputs": [
    {
     "data": {
      "text/plain": [
       "Index(['loan_amnt', 'term', 'int_rate', 'installment', 'emp_length',\n",
       "       'home_ownership', 'annual_inc', 'verification_status', 'loan_status',\n",
       "       'purpose', 'dti', 'delinq_2yrs', 'inq_last_6mths', 'open_acc',\n",
       "       'pub_rec', 'revol_bal', 'revol_util', 'total_acc'],\n",
       "      dtype='object')"
      ]
     },
     "execution_count": 67,
     "metadata": {},
     "output_type": "execute_result"
    }
   ],
   "source": [
    "dataFrame.columns"
   ]
  },
  {
   "cell_type": "code",
   "execution_count": 68,
   "metadata": {},
   "outputs": [
    {
     "data": {
      "text/html": [
       "<style  type=\"text/css\" >\n",
       "    #T_a21a7354_44d9_11e8_ad4e_606dc7c1f51erow0_col0 {\n",
       "            background-color:  #ffdada;\n",
       "        }    #T_a21a7354_44d9_11e8_ad4e_606dc7c1f51erow0_col1 {\n",
       "            background-color:  #ffd3d3;\n",
       "        }    #T_a21a7354_44d9_11e8_ad4e_606dc7c1f51erow1_col0 {\n",
       "            background-color:  #ffbaba;\n",
       "        }    #T_a21a7354_44d9_11e8_ad4e_606dc7c1f51erow1_col1 {\n",
       "            background-color:  #ffa5a5;\n",
       "        }    #T_a21a7354_44d9_11e8_ad4e_606dc7c1f51erow2_col0 {\n",
       "            background-color:  #ff0000;\n",
       "        }    #T_a21a7354_44d9_11e8_ad4e_606dc7c1f51erow2_col1 {\n",
       "            background-color:  #ff0000;\n",
       "        }    #T_a21a7354_44d9_11e8_ad4e_606dc7c1f51erow3_col0 {\n",
       "            background-color:  #ffe3e3;\n",
       "        }    #T_a21a7354_44d9_11e8_ad4e_606dc7c1f51erow3_col1 {\n",
       "            background-color:  #ffe4e4;\n",
       "        }    #T_a21a7354_44d9_11e8_ad4e_606dc7c1f51erow4_col0 {\n",
       "            background-color:  #ffcaca;\n",
       "        }    #T_a21a7354_44d9_11e8_ad4e_606dc7c1f51erow4_col1 {\n",
       "            background-color:  #ffc1c1;\n",
       "        }    #T_a21a7354_44d9_11e8_ad4e_606dc7c1f51erow5_col0 {\n",
       "            background-color:  #ffe3e3;\n",
       "        }    #T_a21a7354_44d9_11e8_ad4e_606dc7c1f51erow5_col1 {\n",
       "            background-color:  #ffe3e3;\n",
       "        }    #T_a21a7354_44d9_11e8_ad4e_606dc7c1f51erow6_col0 {\n",
       "            background-color:  #ffd5d5;\n",
       "        }    #T_a21a7354_44d9_11e8_ad4e_606dc7c1f51erow6_col1 {\n",
       "            background-color:  #ffcaca;\n",
       "        }    #T_a21a7354_44d9_11e8_ad4e_606dc7c1f51erow7_col0 {\n",
       "            background-color:  #ffdede;\n",
       "        }    #T_a21a7354_44d9_11e8_ad4e_606dc7c1f51erow7_col1 {\n",
       "            background-color:  #ffdede;\n",
       "        }    #T_a21a7354_44d9_11e8_ad4e_606dc7c1f51erow8_col0 {\n",
       "            background-color:  #ffe0e0;\n",
       "        }    #T_a21a7354_44d9_11e8_ad4e_606dc7c1f51erow8_col1 {\n",
       "            background-color:  #ffe0e0;\n",
       "        }    #T_a21a7354_44d9_11e8_ad4e_606dc7c1f51erow9_col0 {\n",
       "            background-color:  #ffb2b2;\n",
       "        }    #T_a21a7354_44d9_11e8_ad4e_606dc7c1f51erow9_col1 {\n",
       "            background-color:  #ffb6b6;\n",
       "        }    #T_a21a7354_44d9_11e8_ad4e_606dc7c1f51erow10_col0 {\n",
       "            background-color:  #ffe5e5;\n",
       "        }    #T_a21a7354_44d9_11e8_ad4e_606dc7c1f51erow10_col1 {\n",
       "            background-color:  #ffe5e5;\n",
       "        }    #T_a21a7354_44d9_11e8_ad4e_606dc7c1f51erow11_col0 {\n",
       "            background-color:  #ffc0c0;\n",
       "        }    #T_a21a7354_44d9_11e8_ad4e_606dc7c1f51erow11_col1 {\n",
       "            background-color:  #ffd3d3;\n",
       "        }    #T_a21a7354_44d9_11e8_ad4e_606dc7c1f51erow12_col0 {\n",
       "            background-color:  #ffe3e3;\n",
       "        }    #T_a21a7354_44d9_11e8_ad4e_606dc7c1f51erow12_col1 {\n",
       "            background-color:  #ffe3e3;\n",
       "        }    #T_a21a7354_44d9_11e8_ad4e_606dc7c1f51erow13_col0 {\n",
       "            background-color:  #ffdfdf;\n",
       "        }    #T_a21a7354_44d9_11e8_ad4e_606dc7c1f51erow13_col1 {\n",
       "            background-color:  #ffdbdb;\n",
       "        }</style>  \n",
       "<table id=\"T_a21a7354_44d9_11e8_ad4e_606dc7c1f51e\" > \n",
       "<thead>    <tr> \n",
       "        <th class=\"index_name level0\" >loan_status</th> \n",
       "        <th class=\"col_heading level0 col0\" >0</th> \n",
       "        <th class=\"col_heading level0 col1\" >1</th> \n",
       "    </tr>    <tr> \n",
       "        <th class=\"index_name level0\" >purpose</th> \n",
       "        <th class=\"blank\" ></th> \n",
       "        <th class=\"blank\" ></th> \n",
       "    </tr></thead> \n",
       "<tbody>    <tr> \n",
       "        <th id=\"T_a21a7354_44d9_11e8_ad4e_606dc7c1f51elevel0_row0\" class=\"row_heading level0 row0\" >car</th> \n",
       "        <td id=\"T_a21a7354_44d9_11e8_ad4e_606dc7c1f51erow0_col0\" class=\"data row0 col0\" >160</td> \n",
       "        <td id=\"T_a21a7354_44d9_11e8_ad4e_606dc7c1f51erow0_col1\" class=\"data row0 col1\" >1391</td> \n",
       "    </tr>    <tr> \n",
       "        <th id=\"T_a21a7354_44d9_11e8_ad4e_606dc7c1f51elevel0_row1\" class=\"row_heading level0 row1\" >credit_card</th> \n",
       "        <td id=\"T_a21a7354_44d9_11e8_ad4e_606dc7c1f51erow1_col0\" class=\"data row1 col0\" >548</td> \n",
       "        <td id=\"T_a21a7354_44d9_11e8_ad4e_606dc7c1f51erow1_col1\" class=\"data row1 col1\" >4589</td> \n",
       "    </tr>    <tr> \n",
       "        <th id=\"T_a21a7354_44d9_11e8_ad4e_606dc7c1f51elevel0_row2\" class=\"row_heading level0 row2\" >debt_consolidation</th> \n",
       "        <td id=\"T_a21a7354_44d9_11e8_ad4e_606dc7c1f51erow2_col0\" class=\"data row2 col0\" >2792</td> \n",
       "        <td id=\"T_a21a7354_44d9_11e8_ad4e_606dc7c1f51erow2_col1\" class=\"data row2 col1\" >15884</td> \n",
       "    </tr>    <tr> \n",
       "        <th id=\"T_a21a7354_44d9_11e8_ad4e_606dc7c1f51elevel0_row3\" class=\"row_heading level0 row3\" >educational</th> \n",
       "        <td id=\"T_a21a7354_44d9_11e8_ad4e_606dc7c1f51erow3_col0\" class=\"data row3 col0\" >56</td> \n",
       "        <td id=\"T_a21a7354_44d9_11e8_ad4e_606dc7c1f51erow3_col1\" class=\"data row3 col1\" >269</td> \n",
       "    </tr>    <tr> \n",
       "        <th id=\"T_a21a7354_44d9_11e8_ad4e_606dc7c1f51elevel0_row4\" class=\"row_heading level0 row4\" >home_improvement</th> \n",
       "        <td id=\"T_a21a7354_44d9_11e8_ad4e_606dc7c1f51erow4_col0\" class=\"data row4 col0\" >351</td> \n",
       "        <td id=\"T_a21a7354_44d9_11e8_ad4e_606dc7c1f51erow4_col1\" class=\"data row4 col1\" >2634</td> \n",
       "    </tr>    <tr> \n",
       "        <th id=\"T_a21a7354_44d9_11e8_ad4e_606dc7c1f51elevel0_row5\" class=\"row_heading level0 row5\" >house</th> \n",
       "        <td id=\"T_a21a7354_44d9_11e8_ad4e_606dc7c1f51erow5_col0\" class=\"data row5 col0\" >59</td> \n",
       "        <td id=\"T_a21a7354_44d9_11e8_ad4e_606dc7c1f51erow5_col1\" class=\"data row5 col1\" >323</td> \n",
       "    </tr>    <tr> \n",
       "        <th id=\"T_a21a7354_44d9_11e8_ad4e_606dc7c1f51elevel0_row6\" class=\"row_heading level0 row6\" >major_purchase</th> \n",
       "        <td id=\"T_a21a7354_44d9_11e8_ad4e_606dc7c1f51erow6_col0\" class=\"data row6 col0\" >222</td> \n",
       "        <td id=\"T_a21a7354_44d9_11e8_ad4e_606dc7c1f51erow6_col1\" class=\"data row6 col1\" >1966</td> \n",
       "    </tr>    <tr> \n",
       "        <th id=\"T_a21a7354_44d9_11e8_ad4e_606dc7c1f51elevel0_row7\" class=\"row_heading level0 row7\" >medical</th> \n",
       "        <td id=\"T_a21a7354_44d9_11e8_ad4e_606dc7c1f51erow7_col0\" class=\"data row7 col0\" >106</td> \n",
       "        <td id=\"T_a21a7354_44d9_11e8_ad4e_606dc7c1f51erow7_col1\" class=\"data row7 col1\" >589</td> \n",
       "    </tr>    <tr> \n",
       "        <th id=\"T_a21a7354_44d9_11e8_ad4e_606dc7c1f51elevel0_row8\" class=\"row_heading level0 row8\" >moving</th> \n",
       "        <td id=\"T_a21a7354_44d9_11e8_ad4e_606dc7c1f51erow8_col0\" class=\"data row8 col0\" >92</td> \n",
       "        <td id=\"T_a21a7354_44d9_11e8_ad4e_606dc7c1f51erow8_col1\" class=\"data row8 col1\" >491</td> \n",
       "    </tr>    <tr> \n",
       "        <th id=\"T_a21a7354_44d9_11e8_ad4e_606dc7c1f51elevel0_row9\" class=\"row_heading level0 row9\" >other</th> \n",
       "        <td id=\"T_a21a7354_44d9_11e8_ad4e_606dc7c1f51erow9_col0\" class=\"data row9 col0\" >637</td> \n",
       "        <td id=\"T_a21a7354_44d9_11e8_ad4e_606dc7c1f51erow9_col1\" class=\"data row9 col1\" >3364</td> \n",
       "    </tr>    <tr> \n",
       "        <th id=\"T_a21a7354_44d9_11e8_ad4e_606dc7c1f51elevel0_row10\" class=\"row_heading level0 row10\" >renewable_energy</th> \n",
       "        <td id=\"T_a21a7354_44d9_11e8_ad4e_606dc7c1f51erow10_col0\" class=\"data row10 col0\" >19</td> \n",
       "        <td id=\"T_a21a7354_44d9_11e8_ad4e_606dc7c1f51erow10_col1\" class=\"data row10 col1\" >84</td> \n",
       "    </tr>    <tr> \n",
       "        <th id=\"T_a21a7354_44d9_11e8_ad4e_606dc7c1f51elevel0_row11\" class=\"row_heading level0 row11\" >small_business</th> \n",
       "        <td id=\"T_a21a7354_44d9_11e8_ad4e_606dc7c1f51erow11_col0\" class=\"data row11 col0\" >479</td> \n",
       "        <td id=\"T_a21a7354_44d9_11e8_ad4e_606dc7c1f51erow11_col1\" class=\"data row11 col1\" >1352</td> \n",
       "    </tr>    <tr> \n",
       "        <th id=\"T_a21a7354_44d9_11e8_ad4e_606dc7c1f51elevel0_row12\" class=\"row_heading level0 row12\" >vacation</th> \n",
       "        <td id=\"T_a21a7354_44d9_11e8_ad4e_606dc7c1f51erow12_col0\" class=\"data row12 col0\" >53</td> \n",
       "        <td id=\"T_a21a7354_44d9_11e8_ad4e_606dc7c1f51erow12_col1\" class=\"data row12 col1\" >328</td> \n",
       "    </tr>    <tr> \n",
       "        <th id=\"T_a21a7354_44d9_11e8_ad4e_606dc7c1f51elevel0_row13\" class=\"row_heading level0 row13\" >wedding</th> \n",
       "        <td id=\"T_a21a7354_44d9_11e8_ad4e_606dc7c1f51erow13_col0\" class=\"data row13 col0\" >96</td> \n",
       "        <td id=\"T_a21a7354_44d9_11e8_ad4e_606dc7c1f51erow13_col1\" class=\"data row13 col1\" >852</td> \n",
       "    </tr></tbody> \n",
       "</table> "
      ],
      "text/plain": [
       "<pandas.io.formats.style.Styler at 0x24ca42ed470>"
      ]
     },
     "execution_count": 68,
     "metadata": {},
     "output_type": "execute_result"
    }
   ],
   "source": [
    "#Plotting heatmap\n",
    "#Exploring the loan_status x purpose\n",
    "purp_loan= ['purpose', 'loan_status']\n",
    "cm = sns.light_palette(\"red\", as_cmap=True)\n",
    "pd.crosstab(dataFrame[purp_loan[0]], dataFrame[purp_loan[1]]).style.background_gradient(cmap = cm)"
   ]
  },
  {
   "cell_type": "code",
   "execution_count": 70,
   "metadata": {},
   "outputs": [
    {
     "data": {
      "text/html": [
       "<style  type=\"text/css\" >\n",
       "    #T_d44dde00_44d9_11e8_aa62_606dc7c1f51erow0_col0 {\n",
       "            background-color:  #ffe5e5;\n",
       "        }    #T_d44dde00_44d9_11e8_aa62_606dc7c1f51erow0_col1 {\n",
       "            background-color:  #ffe5e5;\n",
       "        }    #T_d44dde00_44d9_11e8_aa62_606dc7c1f51erow0_col2 {\n",
       "            background-color:  #ffe5e5;\n",
       "        }    #T_d44dde00_44d9_11e8_aa62_606dc7c1f51erow0_col3 {\n",
       "            background-color:  #ffe5e5;\n",
       "        }    #T_d44dde00_44d9_11e8_aa62_606dc7c1f51erow0_col4 {\n",
       "            background-color:  #ffe5e5;\n",
       "        }    #T_d44dde00_44d9_11e8_aa62_606dc7c1f51erow1_col0 {\n",
       "            background-color:  #ff0000;\n",
       "        }    #T_d44dde00_44d9_11e8_aa62_606dc7c1f51erow1_col1 {\n",
       "            background-color:  #ff0000;\n",
       "        }    #T_d44dde00_44d9_11e8_aa62_606dc7c1f51erow1_col2 {\n",
       "            background-color:  #ff0000;\n",
       "        }    #T_d44dde00_44d9_11e8_aa62_606dc7c1f51erow1_col3 {\n",
       "            background-color:  #ff0000;\n",
       "        }    #T_d44dde00_44d9_11e8_aa62_606dc7c1f51erow1_col4 {\n",
       "            background-color:  #ff0000;\n",
       "        }</style>  \n",
       "<table id=\"T_d44dde00_44d9_11e8_aa62_606dc7c1f51e\" > \n",
       "<thead>    <tr> \n",
       "        <th class=\"index_name level0\" >home_ownership</th> \n",
       "        <th class=\"col_heading level0 col0\" >MORTGAGE</th> \n",
       "        <th class=\"col_heading level0 col1\" >NONE</th> \n",
       "        <th class=\"col_heading level0 col2\" >OTHER</th> \n",
       "        <th class=\"col_heading level0 col3\" >OWN</th> \n",
       "        <th class=\"col_heading level0 col4\" >RENT</th> \n",
       "    </tr>    <tr> \n",
       "        <th class=\"index_name level0\" >loan_status</th> \n",
       "        <th class=\"blank\" ></th> \n",
       "        <th class=\"blank\" ></th> \n",
       "        <th class=\"blank\" ></th> \n",
       "        <th class=\"blank\" ></th> \n",
       "        <th class=\"blank\" ></th> \n",
       "    </tr></thead> \n",
       "<tbody>    <tr> \n",
       "        <th id=\"T_d44dde00_44d9_11e8_aa62_606dc7c1f51elevel0_row0\" class=\"row_heading level0 row0\" >0</th> \n",
       "        <td id=\"T_d44dde00_44d9_11e8_aa62_606dc7c1f51erow0_col0\" class=\"data row0 col0\" >2351</td> \n",
       "        <td id=\"T_d44dde00_44d9_11e8_aa62_606dc7c1f51erow0_col1\" class=\"data row0 col1\" >0</td> \n",
       "        <td id=\"T_d44dde00_44d9_11e8_aa62_606dc7c1f51erow0_col2\" class=\"data row0 col2\" >18</td> \n",
       "        <td id=\"T_d44dde00_44d9_11e8_aa62_606dc7c1f51erow0_col3\" class=\"data row0 col3\" >446</td> \n",
       "        <td id=\"T_d44dde00_44d9_11e8_aa62_606dc7c1f51erow0_col4\" class=\"data row0 col4\" >2855</td> \n",
       "    </tr>    <tr> \n",
       "        <th id=\"T_d44dde00_44d9_11e8_aa62_606dc7c1f51elevel0_row1\" class=\"row_heading level0 row1\" >1</th> \n",
       "        <td id=\"T_d44dde00_44d9_11e8_aa62_606dc7c1f51erow1_col0\" class=\"data row1 col0\" >15352</td> \n",
       "        <td id=\"T_d44dde00_44d9_11e8_aa62_606dc7c1f51erow1_col1\" class=\"data row1 col1\" >3</td> \n",
       "        <td id=\"T_d44dde00_44d9_11e8_aa62_606dc7c1f51erow1_col2\" class=\"data row1 col2\" >80</td> \n",
       "        <td id=\"T_d44dde00_44d9_11e8_aa62_606dc7c1f51erow1_col3\" class=\"data row1 col3\" >2618</td> \n",
       "        <td id=\"T_d44dde00_44d9_11e8_aa62_606dc7c1f51erow1_col4\" class=\"data row1 col4\" >16063</td> \n",
       "    </tr></tbody> \n",
       "</table> "
      ],
      "text/plain": [
       "<pandas.io.formats.style.Styler at 0x24ca387eeb8>"
      ]
     },
     "execution_count": 70,
     "metadata": {},
     "output_type": "execute_result"
    }
   ],
   "source": [
    "loan_home = ['loan_status', 'home_ownership']\n",
    "cm = sns.light_palette(\"red\", as_cmap=True)\n",
    "pd.crosstab(dataFrame[loan_home[0]], dataFrame[loan_home[1]]).style.background_gradient(cmap = cm)"
   ]
  },
  {
   "cell_type": "code",
   "execution_count": 75,
   "metadata": {},
   "outputs": [
    {
     "data": {
      "image/png": "[encoded data removed]",
      "text/plain": [
       "<matplotlib.figure.Figure at 0x24ca3923ba8>"
      ]
     },
     "metadata": {},
     "output_type": "display_data"
    }
   ],
   "source": [
    "g = sns.countplot(x=\"purpose\",data=dataFrame,\n",
    "                  palette='cubehelix')\n",
    "g.set_xticklabels(g.get_xticklabels(),rotation=90)\n",
    "g.set_title(\"Application Type - Loan Amount\", fontsize=20)\n",
    "g.set_xlabel(\"\", fontsize=15)\n",
    "g.set_ylabel(\"Loan Amount\", fontsize=15)\n",
    "\n",
    "plt.show()"
   ]
  },
  {
   "cell_type": "code",
   "execution_count": 77,
   "metadata": {},
   "outputs": [
    {
     "data": {
      "image/png": "[encoded data removed]",
      "text/plain": [
       "<matplotlib.figure.Figure at 0x24ca389b198>"
      ]
     },
     "metadata": {},
     "output_type": "display_data"
    }
   ],
   "source": [
    "g = sns.violinplot(x=\"home_ownership\",y=\"loan_amnt\",data=dataFrame,\n",
    "               kind=\"violin\",\n",
    "               split=True,palette=\"cubehelix\")\n",
    "g.set_title(\"Homer Ownership - Loan Distribuition\", fontsize=20)\n",
    "g.set_xlabel(\"\", fontsize=15)\n",
    "g.set_ylabel(\"Loan Amount\", fontsize=15)\n",
    "\n",
    "plt.show()"
   ]
  },
  {
   "cell_type": "code",
   "execution_count": 78,
   "metadata": {},
   "outputs": [],
   "source": [
    "#from above analysis we can deduce that we need to built dummy columns for 4 categorical columns.\n",
    "dum_cols = ['home_ownership', 'verification_status', 'purpose', 'term']\n",
    "df_dummy = pd.get_dummies(dataFrame[dum_cols])\n",
    "dataFrame = pd.concat([dataFrame,df_dummy],axis=1)\n",
    "dataFrame = dataFrame.drop(dum_cols,axis=1)\n"
   ]
  },
  {
   "cell_type": "code",
   "execution_count": 79,
   "metadata": {},
   "outputs": [
    {
     "name": "stdout",
     "output_type": "stream",
     "text": [
      "<class 'pandas.core.frame.DataFrame'>\n",
      "Int64Index: 39786 entries, 0 to 39785\n",
      "Data columns (total 38 columns):\n",
      "loan_amnt                              39786 non-null float64\n",
      "int_rate                               39786 non-null float64\n",
      "installment                            39786 non-null float64\n",
      "emp_length                             38708 non-null float64\n",
      "annual_inc                             39786 non-null float64\n",
      "loan_status                            39786 non-null int64\n",
      "dti                                    39786 non-null float64\n",
      "delinq_2yrs                            39786 non-null float64\n",
      "inq_last_6mths                         39786 non-null float64\n",
      "open_acc                               39786 non-null float64\n",
      "pub_rec                                39786 non-null float64\n",
      "revol_bal                              39786 non-null float64\n",
      "revol_util                             39736 non-null float64\n",
      "total_acc                              39786 non-null float64\n",
      "home_ownership_MORTGAGE                39786 non-null uint8\n",
      "home_ownership_NONE                    39786 non-null uint8\n",
      "home_ownership_OTHER                   39786 non-null uint8\n",
      "home_ownership_OWN                     39786 non-null uint8\n",
      "home_ownership_RENT                    39786 non-null uint8\n",
      "verification_status_Not Verified       39786 non-null uint8\n",
      "verification_status_Source Verified    39786 non-null uint8\n",
      "verification_status_Verified           39786 non-null uint8\n",
      "purpose_car                            39786 non-null uint8\n",
      "purpose_credit_card                    39786 non-null uint8\n",
      "purpose_debt_consolidation             39786 non-null uint8\n",
      "purpose_educational                    39786 non-null uint8\n",
      "purpose_home_improvement               39786 non-null uint8\n",
      "purpose_house                          39786 non-null uint8\n",
      "purpose_major_purchase                 39786 non-null uint8\n",
      "purpose_medical                        39786 non-null uint8\n",
      "purpose_moving                         39786 non-null uint8\n",
      "purpose_other                          39786 non-null uint8\n",
      "purpose_renewable_energy               39786 non-null uint8\n",
      "purpose_small_business                 39786 non-null uint8\n",
      "purpose_vacation                       39786 non-null uint8\n",
      "purpose_wedding                        39786 non-null uint8\n",
      "term_ 36 months                        39786 non-null uint8\n",
      "term_ 60 months                        39786 non-null uint8\n",
      "dtypes: float64(13), int64(1), uint8(24)\n",
      "memory usage: 6.7 MB\n"
     ]
    }
   ],
   "source": [
    "dataFrame.info()"
   ]
  },
  {
   "cell_type": "code",
   "execution_count": 80,
   "metadata": {},
   "outputs": [
    {
     "data": {
      "text/plain": [
       "[Text(0.5,0,'')]"
      ]
     },
     "execution_count": 80,
     "metadata": {},
     "output_type": "execute_result"
    },
    {
     "data": {
      "image/png": "[encoded data removed]",
      "text/plain": [
       "<matplotlib.figure.Figure at 0x24ca4400860>"
      ]
     },
     "metadata": {},
     "output_type": "display_data"
    }
   ],
   "source": [
    "f, (ax_box, ax_hist) = plt.subplots(2, sharex=True, gridspec_kw={\"height_ratios\": (.15, .85)})\n",
    " \n",
    "# Add a graph in each part\n",
    "sns.boxplot(dataFrame[\"loan_amnt\"], ax=ax_box)\n",
    "sns.distplot(dataFrame[\"loan_amnt\"], ax=ax_hist)\n",
    " \n",
    "# Remove x axis name for the boxplot\n",
    "ax_box.set(xlabel='')\n"
   ]
  },
  {
   "cell_type": "code",
   "execution_count": 91,
   "metadata": {},
   "outputs": [],
   "source": [
    "#performing feature scaling\n",
    "from sklearn.preprocessing import StandardScaler\n",
    "scale = StandardScaler()\n",
    "#Dropping Y column and then transforming\n",
    "\n",
    "Y = dataFrame['loan_status']\n",
    "X = dataFrame.drop('loan_status', axis=1)\n",
    "\n",
    "#Just for sanity removing null values.\n",
    "X.dropna(axis=1,inplace=True)\n",
    "\n",
    "X_new = scale.fit_transform(X)\n"
   ]
  },
  {
   "cell_type": "code",
   "execution_count": 94,
   "metadata": {},
   "outputs": [
    {
     "name": "stderr",
     "output_type": "stream",
     "text": [
      "C:\\Users\\bhumi\\Anaconda3\\lib\\site-packages\\imblearn\\under_sampling\\prototype_selection\\one_sided_selection.py:197: DeprecationWarning: in the future out of bounds indices will raise an error instead of being ignored by `numpy.delete`.\n",
      "  idx_maj_extracted = np.delete(idx_maj, idx_maj_sample, axis=0)\n"
     ]
    }
   ],
   "source": [
    "#Now splitting the data, As discussed earlier this data is imbalanced hence, using SKlearn onesided function for under sampling\n",
    "\n",
    "from sklearn.model_selection import train_test_split\n",
    "from imblearn.under_sampling import OneSidedSelection\n",
    "\n",
    "\n",
    "oss = OneSidedSelection()\n",
    "X_resampled, y_resampled = oss.fit_sample(X_new, Y)\n",
    "\n",
    "X_train, X_test, y_train, y_test = train_test_split(X_resampled, y_resampled, test_size=0.3, random_state=42)\n"
   ]
  },
  {
   "cell_type": "code",
   "execution_count": 99,
   "metadata": {},
   "outputs": [
    {
     "name": "stdout",
     "output_type": "stream",
     "text": [
      "0.7500661200740545\n"
     ]
    }
   ],
   "source": [
    "#Applying decision tree and random forest\n",
    "from sklearn.ensemble import RandomForestClassifier\n",
    "from sklearn.tree import DecisionTreeClassifier\n",
    "from sklearn import metrics\n",
    "\n",
    "dtc = DecisionTreeClassifier()\n",
    "dtc.fit(X_train, y_train)\n",
    "#print(metrics.confusion_matrix(y_test, dtc.predict(X_test)))\n",
    "print(metrics.accuracy_score(y_test, dtc.predict(X_test)))"
   ]
  },
  {
   "cell_type": "code",
   "execution_count": 102,
   "metadata": {},
   "outputs": [
    {
     "name": "stdout",
     "output_type": "stream",
     "text": [
      "0.8466895882923389\n",
      "[[  19 1717]\n",
      " [  22 9585]]\n"
     ]
    }
   ],
   "source": [
    "#appling random forest\n",
    "clf = RandomForestClassifier(max_depth=10, max_features=5)\n",
    "clf.fit(X_train, y_train)\n",
    "print(metrics.accuracy_score(y_test, clf.predict(X_test)))\n",
    "print(metrics.confusion_matrix(y_test, clf.predict(X_test)))"
   ]
  },
  {
   "cell_type": "code",
   "execution_count": null,
   "metadata": {},
   "outputs": [],
   "source": []
  },
  {
   "cell_type": "code",
   "execution_count": null,
   "metadata": {},
   "outputs": [],
   "source": []
  },
  {
   "cell_type": "code",
   "execution_count": null,
   "metadata": {},
   "outputs": [],
   "source": []
  }
 ],
 "metadata": {
  "kernelspec": {
   "display_name": "Python 3",
   "language": "python",
   "name": "python3"
  },
  "language_info": {
   "codemirror_mode": {
    "name": "ipython",
    "version": 3
   },
   "file_extension": ".py",
   "mimetype": "text/x-python",
   "name": "python",
   "nbconvert_exporter": "python",
   "pygments_lexer": "ipython3",
   "version": "3.5.5"
  }
 },
 "nbformat": 4,
 "nbformat_minor": 2
}
