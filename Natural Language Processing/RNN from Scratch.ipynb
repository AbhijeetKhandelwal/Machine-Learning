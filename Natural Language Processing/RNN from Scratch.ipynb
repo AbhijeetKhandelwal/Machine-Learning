{
 "cells": [
  {
   "cell_type": "code",
   "execution_count": 3,
   "metadata": {
    "collapsed": true
   },
   "outputs": [],
   "source": [
    "#RNN is very effective for Natural language processing other sequence task because they have memory.\n",
    "#In this Notebook I will design full RNN in Numpy.\n",
    "\n",
    "#In this RNN I am considering No. of Input and No. of Output are same.\n",
    "import numpy as np"
   ]
  },
  {
   "cell_type": "code",
   "execution_count": 4,
   "metadata": {
    "collapsed": true
   },
   "outputs": [],
   "source": [
    "#utility functions\n",
    "def softmax(x):\n",
    "    e_x = np.exp(x - np.max(x))\n",
    "    return e_x / e_x.sum(axis=0) # only difference"
   ]
  },
  {
   "cell_type": "code",
   "execution_count": 5,
   "metadata": {
    "collapsed": true
   },
   "outputs": [],
   "source": [
    "#RNN forward propogation\n",
    "\n",
    "def rnn_cell_forward(xt,a_prev,parameters):\n",
    "    #xt -> Input to the cell (n_x,m)\n",
    "    #a_prev -> activation of previous cell (n_a,m)\n",
    "    #parameters -> python dict with weights and biasis\n",
    "    #retrieveing the parameters\n",
    "    Wax = parameters[\"Wax\"] #(n_a,n_x)\n",
    "    Waa = parameters[\"Waa\"] #(n_a,n_a)\n",
    "    Wya = parameters[\"Wya\"] #(n_y,n_a)\n",
    "    ba = parameters[\"ba\"] #(n_a,1)\n",
    "    by = parameters[\"by\"] #(n_y,1)\n",
    "    \n",
    "    #computing a_next\n",
    "    a_next = np.tanh(np.dot(Waa,a_prev)+np.dot(Wax,xt) +ba)\n",
    "    \n",
    "    #computing output of current cell\n",
    "    yt_pred = softmax(np.dot(Wya, a_next) + by)\n",
    "    \n",
    "    #storing the values in cache for backward prop\n",
    "    \n",
    "    cache = (a_next,a_prev,xt,parameters)\n",
    "    \n",
    "    return a_next, yt_pred, cache\n",
    "    \n",
    "    "
   ]
  },
  {
   "cell_type": "code",
   "execution_count": 9,
   "metadata": {},
   "outputs": [],
   "source": [
    "#RNN forward pass for sequence of data\n",
    "\n",
    "def rnn_forward(x,a0,parameters):\n",
    "    #x -> input at every time step(n_x, m, T_x)\n",
    "    #a0 -> initial hidden state of shape (n_a,m)\n",
    "    \n",
    "    #initializing caches\n",
    "    caches = []\n",
    "    n_x,m,T_x = x.shape\n",
    "    n_y,n_a = parameters['Wya'].shape\n",
    "    \n",
    "    #initializing a and y_pred with zeros\n",
    "    \n",
    "    a = np.zeros((n_a,m,T_x))\n",
    "    y_pred = np.zeros((n_y,m,T_x))\n",
    "    \n",
    "    #for first time \n",
    "    a_next = a0\n",
    "    \n",
    "    for i in range(T_x):\n",
    "        # Update next hidden state, compute the prediction, get the cache (≈1 line)\n",
    "        a_next, yt_pred, cache = rnn_cell_forward(x[:,:,i], a_next, parameters)\n",
    "        # Save the value of the new \"next\" hidden state in a (≈1 line)\n",
    "        a[:,:,i] = a_next\n",
    "        # Save the value of the prediction in y (≈1 line)\n",
    "        y_pred[:,:,i] = yt_pred\n",
    "        # Append \"cache\" to \"caches\" (≈1 line)\n",
    "        caches.append(cache)\n",
    "        #Storing values in caches for backward prop\n",
    "    caches = (caches,x)\n",
    "        \n",
    "    return a,y_pred,caches    "
   ]
  },
  {
   "cell_type": "code",
   "execution_count": 11,
   "metadata": {},
   "outputs": [],
   "source": [
    "#Backward propogation RNN cell\n",
    "\n",
    "def rnn_cell_backward(da_next,cache):\n",
    "    #da_next -> gradient of loss with respect to next hidden state\n",
    "    #cache -> python dict containing values stored during forward pass\n",
    "    \n",
    "    (a_next,a_prev,xt,parameters) = cache\n",
    "    \n",
    "    Wax = parameters[\"Wax\"]\n",
    "    Waa = parameters[\"Waa\"]\n",
    "    Wya = parameters[\"Wya\"]\n",
    "    ba = parameters[\"ba\"]\n",
    "    by = parameters[\"by\"]   \n",
    "    \n",
    "    #gradient with respect to a_next\n",
    "    dtanh = (1-a_next**2)*da_next\n",
    "    dxt = np.dot(Wax.T, dtanh)\n",
    "    dWax = np.dot(dtanh, xt.T)\n",
    "\n",
    "    # gradient with respect to Waa (≈2 lines)\n",
    "    da_prev = np.dot(Waa.T, dtanh)\n",
    "    dWaa = np.dot(dtanh, a_prev.T)\n",
    "\n",
    "    # gradient with respect to b (≈1 line)\n",
    "    dba = np.sum(dtanh, 1, keepdims=True)\n",
    "\n",
    "    # gradients in a python dictionary\n",
    "    gradients = {\"dxt\": dxt, \"da_prev\": da_prev, \"dWax\": dWax, \"dWaa\": dWaa, \"dba\": dba}\n",
    "    \n",
    "    return gradients"
   ]
  },
  {
   "cell_type": "code",
   "execution_count": 13,
   "metadata": {},
   "outputs": [],
   "source": [
    "#backward propogation of RNN\n",
    "def rnn_backward(da, caches):\n",
    "    (caches, x) = caches\n",
    "    (a1, a0, x1, parameters) = caches[0]\n",
    "    \n",
    "    # Retrieve dimensions from da's and x1's shapes (≈2 lines)\n",
    "    n_a, m, T_x = da.shape\n",
    "    n_x, m = x1.shape\n",
    "    \n",
    "    # initialize the gradients with the right sizes (≈6 lines)\n",
    "    dx = np.zeros((n_x, m, T_x))\n",
    "    dWax = np.zeros((n_a, n_x))\n",
    "    dWaa = np.zeros((n_a, n_a))\n",
    "    dba = np.zeros((n_a, 1))\n",
    "    da0 = np.zeros((n_a, m))\n",
    "    da_prevt = np.zeros((n_a, m))\n",
    "    \n",
    "    # Loop through all the time steps\n",
    "    for t in reversed(range(T_x)):\n",
    "        # Compute gradients at time step t. Choose wisely the \"da_next\" and the \"cache\" to use in the backward propagation step. (≈1 line)\n",
    "        gradients = rnn_cell_backward(da[:,:, t] + da_prevt, caches[t])\n",
    "        # Retrieve derivatives from gradients (≈ 1 line)\n",
    "        dxt, da_prevt, dWaxt, dWaat, dbat = gradients[\"dxt\"], gradients[\"da_prev\"], gradients[\"dWax\"], gradients[\"dWaa\"], gradients[\"dba\"]\n",
    "        # Increment global derivatives w.r.t parameters by adding their derivative at time-step t (≈4 lines)\n",
    "        dx[:, :, t] = dxt\n",
    "        dWax += dWaxt\n",
    "        dWaa += dWaat\n",
    "        dba += dbat\n",
    "        \n",
    "    # Set da0 to the gradient of a which has been backpropagated through all time-steps (≈1 line) \n",
    "    da0 = da_prevt\n",
    "    \n",
    "    # Store the gradients in a python dictionary\n",
    "    gradients = {\"dx\": dx, \"da0\": da0, \"dWax\": dWax, \"dWaa\": dWaa,\"dba\": dba}\n",
    "    \n",
    "    return gradients"
   ]
  },
  {
   "cell_type": "code",
   "execution_count": null,
   "metadata": {},
   "outputs": [],
   "source": []
  }
 ],
 "metadata": {
  "kernelspec": {
   "display_name": "Python 3",
   "language": "python",
   "name": "python3"
  },
  "language_info": {
   "codemirror_mode": {
    "name": "ipython",
    "version": 3
   },
   "file_extension": ".py",
   "mimetype": "text/x-python",
   "name": "python",
   "nbconvert_exporter": "python",
   "pygments_lexer": "ipython3",
   "version": "3.6.3"
  }
 },
 "nbformat": 4,
 "nbformat_minor": 2
}
