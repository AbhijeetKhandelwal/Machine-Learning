{
 "cells": [
  {
   "cell_type": "code",
   "execution_count": 19,
   "metadata": {},
   "outputs": [
    {
     "name": "stdout",
     "output_type": "stream",
     "text": [
      "             Open     High    Low  Close      Volume  Ex-Dividend  \\\n",
      "Date                                                                \n",
      "2010-06-29  19.00  25.0000  17.54  23.89  18766300.0          0.0   \n",
      "2010-06-30  25.79  30.4192  23.30  23.83  17187100.0          0.0   \n",
      "2010-07-01  25.00  25.9200  20.27  21.96   8218800.0          0.0   \n",
      "2010-07-02  23.00  23.1000  18.71  19.20   5139800.0          0.0   \n",
      "2010-07-06  20.00  20.0000  15.83  16.11   6866900.0          0.0   \n",
      "\n",
      "            Split Ratio  Adj. Open  Adj. High  Adj. Low  Adj. Close  \\\n",
      "Date                                                                  \n",
      "2010-06-29          1.0      19.00    25.0000     17.54       23.89   \n",
      "2010-06-30          1.0      25.79    30.4192     23.30       23.83   \n",
      "2010-07-01          1.0      25.00    25.9200     20.27       21.96   \n",
      "2010-07-02          1.0      23.00    23.1000     18.71       19.20   \n",
      "2010-07-06          1.0      20.00    20.0000     15.83       16.11   \n",
      "\n",
      "            Adj. Volume  \n",
      "Date                     \n",
      "2010-06-29   18766300.0  \n",
      "2010-06-30   17187100.0  \n",
      "2010-07-01    8218800.0  \n",
      "2010-07-02    5139800.0  \n",
      "2010-07-06    6866900.0  \n"
     ]
    }
   ],
   "source": [
    "import datetime as dt\n",
    "import matplotlib.pyplot as plt\n",
    "from matplotlib import style\n",
    "import pandas as pd\n",
    "import quandl\n",
    "import numpy as np\n",
    "import seaborn as sns\n",
    "import math\n",
    "from keras.models import Sequential\n",
    "from keras.layers import Dense\n",
    "from keras.layers import LSTM\n",
    "from sklearn.preprocessing import MinMaxScaler\n",
    "from sklearn.metrics import mean_squared_error\n",
    "np.random.seed(7)\n",
    "\n",
    "df = quandl.get('WIKI/TSLA')\n",
    "print(df.head())"
   ]
  },
  {
   "cell_type": "code",
   "execution_count": 20,
   "metadata": {},
   "outputs": [],
   "source": [
    "df.to_csv('tesla.csv')\n",
    "\n",
    "df = pd.read_csv('tesla.csv',parse_dates=True,index_col='Date')\n"
   ]
  },
  {
   "cell_type": "code",
   "execution_count": 21,
   "metadata": {},
   "outputs": [
    {
     "data": {
      "image/png": "[encoded data removed]",
      "text/plain": [
       "<matplotlib.figure.Figure at 0x232777b11d0>"
      ]
     },
     "metadata": {},
     "output_type": "display_data"
    }
   ],
   "source": [
    "#plotting Closing Balance\n",
    "df[['Close']].plot()\n",
    "plt.show()\n",
    "\n",
    "n_df = df[['Close']]"
   ]
  },
  {
   "cell_type": "code",
   "execution_count": 23,
   "metadata": {},
   "outputs": [],
   "source": [
    "#Scaling the data as RNN are very sensitive to scale \n",
    "\n",
    "scaler = MinMaxScaler(feature_range = (0,1))\n",
    "n_df = scaler.fit_transform(n_df)\n"
   ]
  },
  {
   "cell_type": "code",
   "execution_count": 24,
   "metadata": {
    "collapsed": true
   },
   "outputs": [],
   "source": [
    "#Spliting the data (70:30)\n",
    "training_size = int(len(n_df)*.70)\n",
    "test_size = len(n_df) - training_size\n",
    "\n",
    "train = n_df[0:training_size,:]\n",
    "test = n_df[training_size:len(n_df),:]"
   ]
  },
  {
   "cell_type": "code",
   "execution_count": 27,
   "metadata": {
    "collapsed": true
   },
   "outputs": [],
   "source": [
    "# convert an array of values into a dataset matrix\n",
    "#This default will create a dataset where X is the price of share at a given time (t) and Y is the price of share at the next time (t + 1).\n",
    "def create_dataset(dataset, look_back=1):\n",
    "    dataX, dataY = [], []\n",
    "    for i in range(len(dataset)-look_back-1):\n",
    "        a = dataset[i:(i+look_back), 0]\n",
    "        dataX.append(a)\n",
    "        dataY.append(dataset[i + look_back, 0])\n",
    "    return np.array(dataX), np.array(dataY)"
   ]
  },
  {
   "cell_type": "code",
   "execution_count": 28,
   "metadata": {},
   "outputs": [],
   "source": [
    "# reshape into X=t and Y=t+1\n",
    "look_back = 1\n",
    "trainX, trainY = create_dataset(train, look_back)\n",
    "testX, testY = create_dataset(test, look_back)"
   ]
  },
  {
   "cell_type": "code",
   "execution_count": 31,
   "metadata": {},
   "outputs": [
    {
     "name": "stdout",
     "output_type": "stream",
     "text": [
      "WARNING:tensorflow:From C:\\Users\\bhumi\\Anaconda3\\lib\\site-packages\\keras\\backend\\tensorflow_backend.py:1238: calling reduce_sum (from tensorflow.python.ops.math_ops) with keep_dims is deprecated and will be removed in a future version.\n",
      "Instructions for updating:\n",
      "keep_dims is deprecated, use keepdims instead\n",
      "WARNING:tensorflow:From C:\\Users\\bhumi\\Anaconda3\\lib\\site-packages\\keras\\backend\\tensorflow_backend.py:1340: calling reduce_mean (from tensorflow.python.ops.math_ops) with keep_dims is deprecated and will be removed in a future version.\n",
      "Instructions for updating:\n",
      "keep_dims is deprecated, use keepdims instead\n",
      "Epoch 1/100\n",
      " - 3s - loss: 0.0251\n",
      "Epoch 2/100\n",
      " - 2s - loss: 1.8189e-04\n",
      "Epoch 3/100\n",
      " - 2s - loss: 1.6683e-04\n",
      "Epoch 4/100\n",
      " - 2s - loss: 1.6256e-04\n",
      "Epoch 5/100\n",
      " - 2s - loss: 1.6051e-04\n",
      "Epoch 6/100\n",
      " - 2s - loss: 1.5523e-04\n",
      "Epoch 7/100\n",
      " - 2s - loss: 1.5207e-04\n",
      "Epoch 8/100\n",
      " - 2s - loss: 1.5439e-04\n",
      "Epoch 9/100\n",
      " - 2s - loss: 1.5151e-04\n",
      "Epoch 10/100\n",
      " - 2s - loss: 1.4781e-04\n",
      "Epoch 11/100\n",
      " - 2s - loss: 1.5363e-04\n",
      "Epoch 12/100\n",
      " - 2s - loss: 1.5259e-04\n",
      "Epoch 13/100\n",
      " - 2s - loss: 1.4846e-04\n",
      "Epoch 14/100\n",
      " - 2s - loss: 1.5060e-04\n",
      "Epoch 15/100\n",
      " - 2s - loss: 1.5175e-04\n",
      "Epoch 16/100\n",
      " - 2s - loss: 1.5438e-04\n",
      "Epoch 17/100\n",
      " - 2s - loss: 1.5602e-04\n",
      "Epoch 18/100\n",
      " - 2s - loss: 1.4773e-04\n",
      "Epoch 19/100\n",
      " - 3s - loss: 1.4740e-04\n",
      "Epoch 20/100\n",
      " - 2s - loss: 1.4875e-04\n",
      "Epoch 21/100\n",
      " - 2s - loss: 1.5423e-04\n",
      "Epoch 22/100\n",
      " - 2s - loss: 1.5250e-04\n",
      "Epoch 23/100\n",
      " - 3s - loss: 1.5136e-04\n",
      "Epoch 24/100\n",
      " - 2s - loss: 1.4715e-04\n",
      "Epoch 25/100\n",
      " - 2s - loss: 1.5149e-04\n",
      "Epoch 26/100\n",
      " - 2s - loss: 1.5203e-04\n",
      "Epoch 27/100\n",
      " - 2s - loss: 1.4812e-04\n",
      "Epoch 28/100\n",
      " - 2s - loss: 1.4971e-04\n",
      "Epoch 29/100\n",
      " - 2s - loss: 1.4687e-04\n",
      "Epoch 30/100\n",
      " - 2s - loss: 1.5023e-04\n",
      "Epoch 31/100\n",
      " - 2s - loss: 1.5117e-04\n",
      "Epoch 32/100\n",
      " - 2s - loss: 1.5120e-04\n",
      "Epoch 33/100\n",
      " - 2s - loss: 1.4930e-04\n",
      "Epoch 34/100\n",
      " - 2s - loss: 1.5214e-04\n",
      "Epoch 35/100\n",
      " - 2s - loss: 1.5444e-04\n",
      "Epoch 36/100\n",
      " - 2s - loss: 1.4970e-04\n",
      "Epoch 37/100\n",
      " - 2s - loss: 1.5334e-04\n",
      "Epoch 38/100\n",
      " - 2s - loss: 1.5050e-04\n",
      "Epoch 39/100\n",
      " - 2s - loss: 1.5147e-04\n",
      "Epoch 40/100\n",
      " - 2s - loss: 1.4751e-04\n",
      "Epoch 41/100\n",
      " - 2s - loss: 1.4835e-04\n",
      "Epoch 42/100\n",
      " - 2s - loss: 1.5199e-04\n",
      "Epoch 43/100\n",
      " - 2s - loss: 1.5061e-04\n",
      "Epoch 44/100\n",
      " - 2s - loss: 1.5398e-04\n",
      "Epoch 45/100\n",
      " - 2s - loss: 1.4944e-04\n",
      "Epoch 46/100\n",
      " - 2s - loss: 1.5071e-04\n",
      "Epoch 47/100\n",
      " - 2s - loss: 1.5466e-04\n",
      "Epoch 48/100\n",
      " - 2s - loss: 1.5622e-04\n",
      "Epoch 49/100\n",
      " - 2s - loss: 1.4977e-04\n",
      "Epoch 50/100\n",
      " - 2s - loss: 1.5155e-04\n",
      "Epoch 51/100\n",
      " - 2s - loss: 1.4864e-04\n",
      "Epoch 52/100\n",
      " - 2s - loss: 1.4780e-04\n",
      "Epoch 53/100\n",
      " - 2s - loss: 1.5531e-04\n",
      "Epoch 54/100\n",
      " - 2s - loss: 1.5027e-04\n",
      "Epoch 55/100\n",
      " - 2s - loss: 1.5572e-04\n",
      "Epoch 56/100\n",
      " - 2s - loss: 1.5108e-04\n",
      "Epoch 57/100\n",
      " - 3s - loss: 1.5212e-04\n",
      "Epoch 58/100\n",
      " - 3s - loss: 1.5313e-04\n",
      "Epoch 59/100\n",
      " - 2s - loss: 1.5035e-04\n",
      "Epoch 60/100\n",
      " - 2s - loss: 1.4738e-04\n",
      "Epoch 61/100\n",
      " - 2s - loss: 1.5254e-04\n",
      "Epoch 62/100\n",
      " - 2s - loss: 1.5065e-04\n",
      "Epoch 63/100\n",
      " - 3s - loss: 1.4776e-04\n",
      "Epoch 64/100\n",
      " - 4s - loss: 1.5230e-04\n",
      "Epoch 65/100\n",
      " - 3s - loss: 1.5075e-04\n",
      "Epoch 66/100\n",
      " - 3s - loss: 1.5119e-04\n",
      "Epoch 67/100\n",
      " - 3s - loss: 1.5069e-04\n",
      "Epoch 68/100\n",
      " - 3s - loss: 1.4974e-04\n",
      "Epoch 69/100\n",
      " - 3s - loss: 1.4678e-04\n",
      "Epoch 70/100\n",
      " - 3s - loss: 1.5152e-04\n",
      "Epoch 71/100\n",
      " - 2s - loss: 1.4787e-04\n",
      "Epoch 72/100\n",
      " - 2s - loss: 1.5042e-04\n",
      "Epoch 73/100\n",
      " - 2s - loss: 1.5421e-04\n",
      "Epoch 74/100\n",
      " - 2s - loss: 1.5428e-04\n",
      "Epoch 75/100\n",
      " - 2s - loss: 1.4990e-04\n",
      "Epoch 76/100\n",
      " - 2s - loss: 1.4784e-04\n",
      "Epoch 77/100\n",
      " - 2s - loss: 1.4937e-04\n",
      "Epoch 78/100\n",
      " - 2s - loss: 1.5394e-04\n",
      "Epoch 79/100\n",
      " - 2s - loss: 1.4696e-04\n",
      "Epoch 80/100\n",
      " - 2s - loss: 1.5346e-04\n",
      "Epoch 81/100\n",
      " - 2s - loss: 1.4595e-04\n",
      "Epoch 82/100\n",
      " - 2s - loss: 1.4632e-04\n",
      "Epoch 83/100\n",
      " - 2s - loss: 1.4668e-04\n",
      "Epoch 84/100\n",
      " - 2s - loss: 1.4853e-04\n",
      "Epoch 85/100\n",
      " - 2s - loss: 1.4939e-04\n",
      "Epoch 86/100\n",
      " - 2s - loss: 1.4664e-04\n",
      "Epoch 87/100\n",
      " - 2s - loss: 1.5113e-04\n",
      "Epoch 88/100\n",
      " - 2s - loss: 1.4838e-04\n",
      "Epoch 89/100\n",
      " - 2s - loss: 1.4952e-04\n",
      "Epoch 90/100\n",
      " - 2s - loss: 1.4755e-04\n",
      "Epoch 91/100\n",
      " - 3s - loss: 1.4445e-04\n",
      "Epoch 92/100\n",
      " - 2s - loss: 1.5135e-04\n",
      "Epoch 93/100\n",
      " - 2s - loss: 1.4862e-04\n",
      "Epoch 94/100\n",
      " - 2s - loss: 1.4790e-04\n",
      "Epoch 95/100\n",
      " - 2s - loss: 1.4807e-04\n",
      "Epoch 96/100\n",
      " - 2s - loss: 1.4556e-04\n",
      "Epoch 97/100\n",
      " - 2s - loss: 1.4551e-04\n",
      "Epoch 98/100\n",
      " - 2s - loss: 1.4448e-04\n",
      "Epoch 99/100\n",
      " - 2s - loss: 1.4931e-04\n",
      "Epoch 100/100\n",
      " - 2s - loss: 1.3986e-04\n"
     ]
    },
    {
     "data": {
      "text/plain": [
       "<keras.callbacks.History at 0x23277883320>"
      ]
     },
     "execution_count": 31,
     "metadata": {},
     "output_type": "execute_result"
    }
   ],
   "source": [
    "# reshape input to be [samples, time steps, features]\n",
    "trainX = np.reshape(trainX, (trainX.shape[0], 1, trainX.shape[1]))\n",
    "testX = np.reshape(testX, (testX.shape[0], 1, testX.shape[1]))\n",
    "# create and fit the LSTM network\n",
    "model = Sequential()\n",
    "model.add(LSTM(4, input_shape=(1, look_back)))\n",
    "model.add(Dense(1))\n",
    "model.compile(loss='mean_squared_error', optimizer='adam')\n",
    "model.fit(trainX, trainY, epochs=100, batch_size=1, verbose=2)"
   ]
  },
  {
   "cell_type": "code",
   "execution_count": 50,
   "metadata": {},
   "outputs": [],
   "source": [
    "# make predictions\n",
    "trainPredict = model.predict(trainX)\n",
    "testPredict = model.predict(testX)\n",
    "# invert predictions\n",
    "trainPredict = scaler.inverse_transform(trainPredict)\n",
    "trainY = scaler.inverse_transform(np.transpose(trainY))\n",
    "testPredict = scaler.inverse_transform(testPredict)\n",
    "testY = scaler.inverse_transform(np.transpose(testY))\n"
   ]
  },
  {
   "cell_type": "code",
   "execution_count": 51,
   "metadata": {},
   "outputs": [
    {
     "data": {
      "image/png": "[encoded data removed]",
      "text/plain": [
       "<matplotlib.figure.Figure at 0x23278ceaba8>"
      ]
     },
     "metadata": {},
     "output_type": "display_data"
    }
   ],
   "source": [
    "# shift train predictions for plotting\n",
    "trainPredictPlot = np.empty_like(n_df)\n",
    "trainPredictPlot[:, :] = np.nan\n",
    "trainPredictPlot[look_back:len(trainPredict)+look_back, :] = trainPredict\n",
    "# shift test predictions for plotting\n",
    "testPredictPlot = np.empty_like(n_df)\n",
    "testPredictPlot[:, :] = np.nan\n",
    "testPredictPlot[len(trainPredict)+(look_back*2)+1:len(n_df)-1, :] = testPredict\n",
    "# plot baseline and predictions\n",
    "plt.plot(scaler.inverse_transform(n_df))\n",
    "plt.plot(trainPredictPlot)\n",
    "plt.plot(testPredictPlot)\n",
    "plt.show()"
   ]
  },
  {
   "cell_type": "code",
   "execution_count": null,
   "metadata": {
    "collapsed": true
   },
   "outputs": [],
   "source": []
  }
 ],
 "metadata": {
  "kernelspec": {
   "display_name": "Python 3",
   "language": "python",
   "name": "python3"
  },
  "language_info": {
   "codemirror_mode": {
    "name": "ipython",
    "version": 3
   },
   "file_extension": ".py",
   "mimetype": "text/x-python",
   "name": "python",
   "nbconvert_exporter": "python",
   "pygments_lexer": "ipython3",
   "version": "3.6.3"
  }
 },
 "nbformat": 4,
 "nbformat_minor": 2
}
